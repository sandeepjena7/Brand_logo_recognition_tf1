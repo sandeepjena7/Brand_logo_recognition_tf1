{
 "cells": [
  {
   "cell_type": "markdown",
   "id": "12228728-540c-4a56-b1fc-9b66f5d50408",
   "metadata": {},
   "source": [
    "#### We have download and labeling by me the dataset in zip files [Link](https://drive.google.com/file/d/1WikYMsqYD9KI-VZy8JfxXJv7TwUkvfx4/view?usp=sharing)"
   ]
  },
  {
   "cell_type": "code",
   "execution_count": 2,
   "id": "147ae864-a5f5-4682-bbce-98532929ac40",
   "metadata": {},
   "outputs": [],
   "source": [
    "import os\n",
    "import glob\n",
    "import pandas as pd\n",
    "import xml.etree.ElementTree as ET\n"
   ]
  },
  {
   "cell_type": "code",
   "execution_count": null,
   "id": "3cecd148",
   "metadata": {},
   "outputs": [],
   "source": [
    "path = \"brand_log_withxml\""
   ]
  },
  {
   "cell_type": "code",
   "execution_count": 4,
   "id": "0138a411-f71d-4e77-b0f6-920af6179077",
   "metadata": {},
   "outputs": [
    {
     "name": "stdout",
     "output_type": "stream",
     "text": [
      "Successfully converted xml to csv.\n"
     ]
    }
   ],
   "source": [
    "\n",
    "xml_list = []\n",
    "for xml_file in glob.glob(path + '/*.xml'):\n",
    "    tree = ET.parse(xml_file)\n",
    "    root = tree.getroot()\n",
    "    for member in root.findall('object'):\n",
    "        value = (root.find('filename').text,\n",
    "                 int(root.find('size')[0].text),\n",
    "                 int(root.find('size')[1].text),\n",
    "                 member[0].text,\n",
    "                 int(member[4][0].text),\n",
    "                 int(member[4][1].text),\n",
    "                 int(member[4][2].text),\n",
    "                 int(member[4][3].text)\n",
    "                 )\n",
    "        xml_list.append(value)\n",
    "column_name = ['filename', 'width', 'height', 'class', 'xmin', 'ymin', 'xmax', 'ymax']\n",
    "xml_df = pd.DataFrame(xml_list, columns=column_name)\n",
    "\n",
    "xml_df.to_csv(\"owndataset.csv\", index=None)\n",
    "print('Successfully converted xml to csv.')\n"
   ]
  },
  {
   "cell_type": "markdown",
   "id": "41f1d67a-c49d-427c-8f9c-1d5e9f9f3069",
   "metadata": {},
   "source": [
    "### It Is Generate owndataset.csv files"
   ]
  }
 ],
 "metadata": {
  "kernelspec": {
   "display_name": "Python 3",
   "language": "python",
   "name": "python3"
  },
  "language_info": {
   "codemirror_mode": {
    "name": "ipython",
    "version": 3
   },
   "file_extension": ".py",
   "mimetype": "text/x-python",
   "name": "python",
   "nbconvert_exporter": "python",
   "pygments_lexer": "ipython3",
   "version": "3.6.13"
  }
 },
 "nbformat": 4,
 "nbformat_minor": 5
}
