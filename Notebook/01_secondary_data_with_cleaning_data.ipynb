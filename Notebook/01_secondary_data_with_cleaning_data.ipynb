{
 "cells": [
  {
   "cell_type": "markdown",
   "id": "e1a2fe36-0269-4ec8-8c37-22bad6936490",
   "metadata": {},
   "source": [
    "### Brand logo images datasets [Links](http://image.ntua.gr/iva/datasets/flickr_logos/flickr_logos_27_dataset.tar.gz)"
   ]
  },
  {
   "cell_type": "code",
   "execution_count": 1,
   "id": "2837fdf1-7459-4c68-830b-de172dec840b",
   "metadata": {},
   "outputs": [],
   "source": [
    "import pandas as pd\n",
    "import matplotlib.pyplot as plt\n",
    "import seaborn as sns\n",
    "import glob\n",
    "import os\n",
    "from PIL import Image\n",
    "import random\n",
    "\n",
    "sns.set_theme(style=\"whitegrid\")\n",
    "%matplotlib inline\n"
   ]
  },
  {
   "cell_type": "code",
   "execution_count": 2,
   "id": "9d975c00-72d4-4565-a081-e68b6461389a",
   "metadata": {
    "scrolled": true
   },
   "outputs": [
    {
     "data": {
      "text/html": [
       "<div>\n",
       "<style scoped>\n",
       "    .dataframe tbody tr th:only-of-type {\n",
       "        vertical-align: middle;\n",
       "    }\n",
       "\n",
       "    .dataframe tbody tr th {\n",
       "        vertical-align: top;\n",
       "    }\n",
       "\n",
       "    .dataframe thead th {\n",
       "        text-align: right;\n",
       "    }\n",
       "</style>\n",
       "<table border=\"1\" class=\"dataframe\">\n",
       "  <thead>\n",
       "    <tr style=\"text-align: right;\">\n",
       "      <th></th>\n",
       "      <th>filename</th>\n",
       "      <th>class</th>\n",
       "      <th>drop_this_row</th>\n",
       "      <th>xmin</th>\n",
       "      <th>ymin</th>\n",
       "      <th>xmax</th>\n",
       "      <th>ymax</th>\n",
       "    </tr>\n",
       "  </thead>\n",
       "  <tbody>\n",
       "    <tr>\n",
       "      <th>0</th>\n",
       "      <td>2451569770.jpg</td>\n",
       "      <td>Adidas</td>\n",
       "      <td>1</td>\n",
       "      <td>242</td>\n",
       "      <td>208</td>\n",
       "      <td>413</td>\n",
       "      <td>331</td>\n",
       "    </tr>\n",
       "    <tr>\n",
       "      <th>1</th>\n",
       "      <td>390321909.jpg</td>\n",
       "      <td>Adidas</td>\n",
       "      <td>1</td>\n",
       "      <td>13</td>\n",
       "      <td>5</td>\n",
       "      <td>89</td>\n",
       "      <td>60</td>\n",
       "    </tr>\n",
       "    <tr>\n",
       "      <th>2</th>\n",
       "      <td>4761260517.jpg</td>\n",
       "      <td>Adidas</td>\n",
       "      <td>1</td>\n",
       "      <td>43</td>\n",
       "      <td>122</td>\n",
       "      <td>358</td>\n",
       "      <td>354</td>\n",
       "    </tr>\n",
       "    <tr>\n",
       "      <th>3</th>\n",
       "      <td>4763210295.jpg</td>\n",
       "      <td>Adidas</td>\n",
       "      <td>1</td>\n",
       "      <td>83</td>\n",
       "      <td>63</td>\n",
       "      <td>130</td>\n",
       "      <td>93</td>\n",
       "    </tr>\n",
       "    <tr>\n",
       "      <th>4</th>\n",
       "      <td>4763210295.jpg</td>\n",
       "      <td>Adidas</td>\n",
       "      <td>1</td>\n",
       "      <td>91</td>\n",
       "      <td>288</td>\n",
       "      <td>125</td>\n",
       "      <td>306</td>\n",
       "    </tr>\n",
       "  </tbody>\n",
       "</table>\n",
       "</div>"
      ],
      "text/plain": [
       "         filename   class  drop_this_row  xmin  ymin  xmax  ymax\n",
       "0  2451569770.jpg  Adidas              1   242   208   413   331\n",
       "1   390321909.jpg  Adidas              1    13     5    89    60\n",
       "2  4761260517.jpg  Adidas              1    43   122   358   354\n",
       "3  4763210295.jpg  Adidas              1    83    63   130    93\n",
       "4  4763210295.jpg  Adidas              1    91   288   125   306"
      ]
     },
     "execution_count": 2,
     "metadata": {},
     "output_type": "execute_result"
    }
   ],
   "source": [
    "anatation_file_path = \"flickr_logos_27_dataset/flickr_logos_27_dataset_training_set_annotation.txt\"\n",
    "df = pd.read_csv(anatation_file_path,sep=\" \",header=0,names=[\"filename\"\t,\"class\",\"drop_this_row\",\"xmin\",\"ymin\",\"xmax\",\"ymax\"],index_col=False)\n",
    "df.head()"
   ]
  },
  {
   "cell_type": "code",
   "execution_count": 3,
   "id": "eed522bc",
   "metadata": {},
   "outputs": [
    {
     "name": "stdout",
     "output_type": "stream",
     "text": [
      "<class 'pandas.core.frame.DataFrame'>\n",
      "RangeIndex: 4535 entries, 0 to 4534\n",
      "Data columns (total 7 columns):\n",
      " #   Column         Non-Null Count  Dtype \n",
      "---  ------         --------------  ----- \n",
      " 0   filename       4535 non-null   object\n",
      " 1   class          4535 non-null   object\n",
      " 2   drop_this_row  4535 non-null   int64 \n",
      " 3   xmin           4535 non-null   int64 \n",
      " 4   ymin           4535 non-null   int64 \n",
      " 5   xmax           4535 non-null   int64 \n",
      " 6   ymax           4535 non-null   int64 \n",
      "dtypes: int64(5), object(2)\n",
      "memory usage: 248.1+ KB\n"
     ]
    }
   ],
   "source": [
    "df.info()"
   ]
  },
  {
   "cell_type": "code",
   "execution_count": 4,
   "id": "aec7a930-0c76-4ad8-a095-bbc4af787e7d",
   "metadata": {},
   "outputs": [
    {
     "data": {
      "text/html": [
       "<div>\n",
       "<style scoped>\n",
       "    .dataframe tbody tr th:only-of-type {\n",
       "        vertical-align: middle;\n",
       "    }\n",
       "\n",
       "    .dataframe tbody tr th {\n",
       "        vertical-align: top;\n",
       "    }\n",
       "\n",
       "    .dataframe thead th {\n",
       "        text-align: right;\n",
       "    }\n",
       "</style>\n",
       "<table border=\"1\" class=\"dataframe\">\n",
       "  <thead>\n",
       "    <tr style=\"text-align: right;\">\n",
       "      <th></th>\n",
       "      <th>filename</th>\n",
       "      <th>class</th>\n",
       "      <th>xmin</th>\n",
       "      <th>ymin</th>\n",
       "      <th>xmax</th>\n",
       "      <th>ymax</th>\n",
       "    </tr>\n",
       "  </thead>\n",
       "  <tbody>\n",
       "    <tr>\n",
       "      <th>0</th>\n",
       "      <td>2451569770.jpg</td>\n",
       "      <td>Adidas</td>\n",
       "      <td>242</td>\n",
       "      <td>208</td>\n",
       "      <td>413</td>\n",
       "      <td>331</td>\n",
       "    </tr>\n",
       "    <tr>\n",
       "      <th>1</th>\n",
       "      <td>390321909.jpg</td>\n",
       "      <td>Adidas</td>\n",
       "      <td>13</td>\n",
       "      <td>5</td>\n",
       "      <td>89</td>\n",
       "      <td>60</td>\n",
       "    </tr>\n",
       "    <tr>\n",
       "      <th>2</th>\n",
       "      <td>4761260517.jpg</td>\n",
       "      <td>Adidas</td>\n",
       "      <td>43</td>\n",
       "      <td>122</td>\n",
       "      <td>358</td>\n",
       "      <td>354</td>\n",
       "    </tr>\n",
       "    <tr>\n",
       "      <th>3</th>\n",
       "      <td>4763210295.jpg</td>\n",
       "      <td>Adidas</td>\n",
       "      <td>83</td>\n",
       "      <td>63</td>\n",
       "      <td>130</td>\n",
       "      <td>93</td>\n",
       "    </tr>\n",
       "    <tr>\n",
       "      <th>4</th>\n",
       "      <td>4763210295.jpg</td>\n",
       "      <td>Adidas</td>\n",
       "      <td>91</td>\n",
       "      <td>288</td>\n",
       "      <td>125</td>\n",
       "      <td>306</td>\n",
       "    </tr>\n",
       "  </tbody>\n",
       "</table>\n",
       "</div>"
      ],
      "text/plain": [
       "         filename   class  xmin  ymin  xmax  ymax\n",
       "0  2451569770.jpg  Adidas   242   208   413   331\n",
       "1   390321909.jpg  Adidas    13     5    89    60\n",
       "2  4761260517.jpg  Adidas    43   122   358   354\n",
       "3  4763210295.jpg  Adidas    83    63   130    93\n",
       "4  4763210295.jpg  Adidas    91   288   125   306"
      ]
     },
     "execution_count": 4,
     "metadata": {},
     "output_type": "execute_result"
    }
   ],
   "source": [
    "df = df.drop(\"drop_this_row\",axis=1)\n",
    "df.head()"
   ]
  },
  {
   "cell_type": "code",
   "execution_count": 5,
   "id": "b316b9ae-6678-4962-ab5c-a5ec73169ee9",
   "metadata": {},
   "outputs": [
    {
     "data": {
      "text/plain": [
       "(4535, 6)"
      ]
     },
     "execution_count": 5,
     "metadata": {},
     "output_type": "execute_result"
    }
   ],
   "source": [
    "df.shape"
   ]
  },
  {
   "cell_type": "code",
   "execution_count": 6,
   "id": "6f6161c9-3307-4bdc-94cc-70a4df9f3c5c",
   "metadata": {},
   "outputs": [
    {
     "data": {
      "text/html": [
       "<div>\n",
       "<style scoped>\n",
       "    .dataframe tbody tr th:only-of-type {\n",
       "        vertical-align: middle;\n",
       "    }\n",
       "\n",
       "    .dataframe tbody tr th {\n",
       "        vertical-align: top;\n",
       "    }\n",
       "\n",
       "    .dataframe thead th {\n",
       "        text-align: right;\n",
       "    }\n",
       "</style>\n",
       "<table border=\"1\" class=\"dataframe\">\n",
       "  <thead>\n",
       "    <tr style=\"text-align: right;\">\n",
       "      <th></th>\n",
       "      <th>filename</th>\n",
       "      <th>class</th>\n",
       "      <th>xmin</th>\n",
       "      <th>ymin</th>\n",
       "      <th>xmax</th>\n",
       "      <th>ymax</th>\n",
       "    </tr>\n",
       "  </thead>\n",
       "  <tbody>\n",
       "    <tr>\n",
       "      <th>29</th>\n",
       "      <td>2451569770.jpg</td>\n",
       "      <td>Adidas</td>\n",
       "      <td>242</td>\n",
       "      <td>208</td>\n",
       "      <td>413</td>\n",
       "      <td>331</td>\n",
       "    </tr>\n",
       "    <tr>\n",
       "      <th>30</th>\n",
       "      <td>390321909.jpg</td>\n",
       "      <td>Adidas</td>\n",
       "      <td>13</td>\n",
       "      <td>5</td>\n",
       "      <td>89</td>\n",
       "      <td>60</td>\n",
       "    </tr>\n",
       "    <tr>\n",
       "      <th>31</th>\n",
       "      <td>4761260517.jpg</td>\n",
       "      <td>Adidas</td>\n",
       "      <td>43</td>\n",
       "      <td>122</td>\n",
       "      <td>358</td>\n",
       "      <td>354</td>\n",
       "    </tr>\n",
       "    <tr>\n",
       "      <th>32</th>\n",
       "      <td>4763210295.jpg</td>\n",
       "      <td>Adidas</td>\n",
       "      <td>83</td>\n",
       "      <td>63</td>\n",
       "      <td>130</td>\n",
       "      <td>93</td>\n",
       "    </tr>\n",
       "    <tr>\n",
       "      <th>33</th>\n",
       "      <td>4763210295.jpg</td>\n",
       "      <td>Adidas</td>\n",
       "      <td>91</td>\n",
       "      <td>288</td>\n",
       "      <td>125</td>\n",
       "      <td>306</td>\n",
       "    </tr>\n",
       "    <tr>\n",
       "      <th>...</th>\n",
       "      <td>...</td>\n",
       "      <td>...</td>\n",
       "      <td>...</td>\n",
       "      <td>...</td>\n",
       "      <td>...</td>\n",
       "      <td>...</td>\n",
       "    </tr>\n",
       "    <tr>\n",
       "      <th>4530</th>\n",
       "      <td>2126991906.jpg</td>\n",
       "      <td>Yahoo</td>\n",
       "      <td>15</td>\n",
       "      <td>6</td>\n",
       "      <td>253</td>\n",
       "      <td>54</td>\n",
       "    </tr>\n",
       "    <tr>\n",
       "      <th>4531</th>\n",
       "      <td>217288720.jpg</td>\n",
       "      <td>Yahoo</td>\n",
       "      <td>136</td>\n",
       "      <td>161</td>\n",
       "      <td>304</td>\n",
       "      <td>222</td>\n",
       "    </tr>\n",
       "    <tr>\n",
       "      <th>4532</th>\n",
       "      <td>2472817996.jpg</td>\n",
       "      <td>Yahoo</td>\n",
       "      <td>2</td>\n",
       "      <td>4</td>\n",
       "      <td>499</td>\n",
       "      <td>106</td>\n",
       "    </tr>\n",
       "    <tr>\n",
       "      <th>4533</th>\n",
       "      <td>2514220918.jpg</td>\n",
       "      <td>Yahoo</td>\n",
       "      <td>1</td>\n",
       "      <td>69</td>\n",
       "      <td>342</td>\n",
       "      <td>157</td>\n",
       "    </tr>\n",
       "    <tr>\n",
       "      <th>4534</th>\n",
       "      <td>386891249.jpg</td>\n",
       "      <td>Yahoo</td>\n",
       "      <td>156</td>\n",
       "      <td>10</td>\n",
       "      <td>310</td>\n",
       "      <td>49</td>\n",
       "    </tr>\n",
       "  </tbody>\n",
       "</table>\n",
       "<p>3274 rows × 6 columns</p>\n",
       "</div>"
      ],
      "text/plain": [
       "            filename   class  xmin  ymin  xmax  ymax\n",
       "29    2451569770.jpg  Adidas   242   208   413   331\n",
       "30     390321909.jpg  Adidas    13     5    89    60\n",
       "31    4761260517.jpg  Adidas    43   122   358   354\n",
       "32    4763210295.jpg  Adidas    83    63   130    93\n",
       "33    4763210295.jpg  Adidas    91   288   125   306\n",
       "...              ...     ...   ...   ...   ...   ...\n",
       "4530  2126991906.jpg   Yahoo    15     6   253    54\n",
       "4531   217288720.jpg   Yahoo   136   161   304   222\n",
       "4532  2472817996.jpg   Yahoo     2     4   499   106\n",
       "4533  2514220918.jpg   Yahoo     1    69   342   157\n",
       "4534   386891249.jpg   Yahoo   156    10   310    49\n",
       "\n",
       "[3274 rows x 6 columns]"
      ]
     },
     "execution_count": 6,
     "metadata": {},
     "output_type": "execute_result"
    }
   ],
   "source": [
    "duplicates = df[df.duplicated()]\n",
    "duplicates"
   ]
  },
  {
   "cell_type": "code",
   "execution_count": 7,
   "id": "50b050d1-c979-4ac2-914d-62c46e9c782a",
   "metadata": {},
   "outputs": [
    {
     "data": {
      "text/plain": [
       "(3274, 6)"
      ]
     },
     "execution_count": 7,
     "metadata": {},
     "output_type": "execute_result"
    }
   ],
   "source": [
    "duplicates.shape"
   ]
  },
  {
   "cell_type": "code",
   "execution_count": 8,
   "id": "7bfa0481-39f4-4f85-9f3b-0d49634ac144",
   "metadata": {},
   "outputs": [
    {
     "name": "stdout",
     "output_type": "stream",
     "text": [
      "duplicater rows\n"
     ]
    },
    {
     "data": {
      "text/html": [
       "<div>\n",
       "<style scoped>\n",
       "    .dataframe tbody tr th:only-of-type {\n",
       "        vertical-align: middle;\n",
       "    }\n",
       "\n",
       "    .dataframe tbody tr th {\n",
       "        vertical-align: top;\n",
       "    }\n",
       "\n",
       "    .dataframe thead th {\n",
       "        text-align: right;\n",
       "    }\n",
       "</style>\n",
       "<table border=\"1\" class=\"dataframe\">\n",
       "  <thead>\n",
       "    <tr style=\"text-align: right;\">\n",
       "      <th></th>\n",
       "      <th>filename</th>\n",
       "      <th>class</th>\n",
       "      <th>xmin</th>\n",
       "      <th>ymin</th>\n",
       "      <th>xmax</th>\n",
       "      <th>ymax</th>\n",
       "    </tr>\n",
       "  </thead>\n",
       "  <tbody>\n",
       "    <tr>\n",
       "      <th>28</th>\n",
       "      <td>144503924.jpg</td>\n",
       "      <td>Adidas</td>\n",
       "      <td>38</td>\n",
       "      <td>12</td>\n",
       "      <td>234</td>\n",
       "      <td>142</td>\n",
       "    </tr>\n",
       "    <tr>\n",
       "      <th>62</th>\n",
       "      <td>144503924.jpg</td>\n",
       "      <td>Adidas</td>\n",
       "      <td>38</td>\n",
       "      <td>12</td>\n",
       "      <td>234</td>\n",
       "      <td>142</td>\n",
       "    </tr>\n",
       "    <tr>\n",
       "      <th>108</th>\n",
       "      <td>144503924.jpg</td>\n",
       "      <td>Adidas</td>\n",
       "      <td>38</td>\n",
       "      <td>12</td>\n",
       "      <td>234</td>\n",
       "      <td>142</td>\n",
       "    </tr>\n",
       "    <tr>\n",
       "      <th>173</th>\n",
       "      <td>144503924.jpg</td>\n",
       "      <td>Adidas</td>\n",
       "      <td>38</td>\n",
       "      <td>12</td>\n",
       "      <td>234</td>\n",
       "      <td>142</td>\n",
       "    </tr>\n",
       "    <tr>\n",
       "      <th>243</th>\n",
       "      <td>144503924.jpg</td>\n",
       "      <td>Adidas</td>\n",
       "      <td>38</td>\n",
       "      <td>12</td>\n",
       "      <td>234</td>\n",
       "      <td>142</td>\n",
       "    </tr>\n",
       "  </tbody>\n",
       "</table>\n",
       "</div>"
      ],
      "text/plain": [
       "          filename   class  xmin  ymin  xmax  ymax\n",
       "28   144503924.jpg  Adidas    38    12   234   142\n",
       "62   144503924.jpg  Adidas    38    12   234   142\n",
       "108  144503924.jpg  Adidas    38    12   234   142\n",
       "173  144503924.jpg  Adidas    38    12   234   142\n",
       "243  144503924.jpg  Adidas    38    12   234   142"
      ]
     },
     "execution_count": 8,
     "metadata": {},
     "output_type": "execute_result"
    }
   ],
   "source": [
    "print(\"duplicater rows\")\n",
    "df.loc[df['filename']==\"144503924.jpg\"]"
   ]
  },
  {
   "cell_type": "code",
   "execution_count": 9,
   "id": "246227ef-0577-4896-9762-cb36db13cd25",
   "metadata": {},
   "outputs": [
    {
     "data": {
      "text/html": [
       "<div>\n",
       "<style scoped>\n",
       "    .dataframe tbody tr th:only-of-type {\n",
       "        vertical-align: middle;\n",
       "    }\n",
       "\n",
       "    .dataframe tbody tr th {\n",
       "        vertical-align: top;\n",
       "    }\n",
       "\n",
       "    .dataframe thead th {\n",
       "        text-align: right;\n",
       "    }\n",
       "</style>\n",
       "<table border=\"1\" class=\"dataframe\">\n",
       "  <thead>\n",
       "    <tr style=\"text-align: right;\">\n",
       "      <th></th>\n",
       "      <th>filename</th>\n",
       "      <th>class</th>\n",
       "      <th>xmin</th>\n",
       "      <th>ymin</th>\n",
       "      <th>xmax</th>\n",
       "      <th>ymax</th>\n",
       "    </tr>\n",
       "  </thead>\n",
       "  <tbody>\n",
       "    <tr>\n",
       "      <th>0</th>\n",
       "      <td>2451569770.jpg</td>\n",
       "      <td>Adidas</td>\n",
       "      <td>242</td>\n",
       "      <td>208</td>\n",
       "      <td>413</td>\n",
       "      <td>331</td>\n",
       "    </tr>\n",
       "    <tr>\n",
       "      <th>1</th>\n",
       "      <td>390321909.jpg</td>\n",
       "      <td>Adidas</td>\n",
       "      <td>13</td>\n",
       "      <td>5</td>\n",
       "      <td>89</td>\n",
       "      <td>60</td>\n",
       "    </tr>\n",
       "    <tr>\n",
       "      <th>2</th>\n",
       "      <td>4761260517.jpg</td>\n",
       "      <td>Adidas</td>\n",
       "      <td>43</td>\n",
       "      <td>122</td>\n",
       "      <td>358</td>\n",
       "      <td>354</td>\n",
       "    </tr>\n",
       "    <tr>\n",
       "      <th>3</th>\n",
       "      <td>4763210295.jpg</td>\n",
       "      <td>Adidas</td>\n",
       "      <td>83</td>\n",
       "      <td>63</td>\n",
       "      <td>130</td>\n",
       "      <td>93</td>\n",
       "    </tr>\n",
       "    <tr>\n",
       "      <th>4</th>\n",
       "      <td>4763210295.jpg</td>\n",
       "      <td>Adidas</td>\n",
       "      <td>91</td>\n",
       "      <td>288</td>\n",
       "      <td>125</td>\n",
       "      <td>306</td>\n",
       "    </tr>\n",
       "    <tr>\n",
       "      <th>...</th>\n",
       "      <td>...</td>\n",
       "      <td>...</td>\n",
       "      <td>...</td>\n",
       "      <td>...</td>\n",
       "      <td>...</td>\n",
       "      <td>...</td>\n",
       "    </tr>\n",
       "    <tr>\n",
       "      <th>4504</th>\n",
       "      <td>2990076322.jpg</td>\n",
       "      <td>Yahoo</td>\n",
       "      <td>54</td>\n",
       "      <td>2</td>\n",
       "      <td>277</td>\n",
       "      <td>49</td>\n",
       "    </tr>\n",
       "    <tr>\n",
       "      <th>4505</th>\n",
       "      <td>3469867139.jpg</td>\n",
       "      <td>Yahoo</td>\n",
       "      <td>108</td>\n",
       "      <td>175</td>\n",
       "      <td>178</td>\n",
       "      <td>201</td>\n",
       "    </tr>\n",
       "    <tr>\n",
       "      <th>4506</th>\n",
       "      <td>3469867139.jpg</td>\n",
       "      <td>Yahoo</td>\n",
       "      <td>338</td>\n",
       "      <td>188</td>\n",
       "      <td>424</td>\n",
       "      <td>222</td>\n",
       "    </tr>\n",
       "    <tr>\n",
       "      <th>4507</th>\n",
       "      <td>3992886999.jpg</td>\n",
       "      <td>Yahoo</td>\n",
       "      <td>80</td>\n",
       "      <td>194</td>\n",
       "      <td>170</td>\n",
       "      <td>243</td>\n",
       "    </tr>\n",
       "    <tr>\n",
       "      <th>4508</th>\n",
       "      <td>82413169.jpg</td>\n",
       "      <td>Yahoo</td>\n",
       "      <td>31</td>\n",
       "      <td>5</td>\n",
       "      <td>228</td>\n",
       "      <td>47</td>\n",
       "    </tr>\n",
       "  </tbody>\n",
       "</table>\n",
       "<p>1261 rows × 6 columns</p>\n",
       "</div>"
      ],
      "text/plain": [
       "            filename   class  xmin  ymin  xmax  ymax\n",
       "0     2451569770.jpg  Adidas   242   208   413   331\n",
       "1      390321909.jpg  Adidas    13     5    89    60\n",
       "2     4761260517.jpg  Adidas    43   122   358   354\n",
       "3     4763210295.jpg  Adidas    83    63   130    93\n",
       "4     4763210295.jpg  Adidas    91   288   125   306\n",
       "...              ...     ...   ...   ...   ...   ...\n",
       "4504  2990076322.jpg   Yahoo    54     2   277    49\n",
       "4505  3469867139.jpg   Yahoo   108   175   178   201\n",
       "4506  3469867139.jpg   Yahoo   338   188   424   222\n",
       "4507  3992886999.jpg   Yahoo    80   194   170   243\n",
       "4508    82413169.jpg   Yahoo    31     5   228    47\n",
       "\n",
       "[1261 rows x 6 columns]"
      ]
     },
     "execution_count": 9,
     "metadata": {},
     "output_type": "execute_result"
    }
   ],
   "source": [
    "df_free = df.drop_duplicates(subset=df.columns)\n",
    "df_free"
   ]
  },
  {
   "cell_type": "markdown",
   "id": "fc0fd046",
   "metadata": {},
   "source": [
    "### Count the class "
   ]
  },
  {
   "cell_type": "code",
   "execution_count": 10,
   "id": "10e4d753-e410-44ad-9a0a-f6518798960f",
   "metadata": {
    "scrolled": true
   },
   "outputs": [
    {
     "data": {
      "image/png": "[encoded data removed]",
      "text/plain": [
       "<Figure size 842.4x324 with 1 Axes>"
      ]
     },
     "metadata": {},
     "output_type": "display_data"
    }
   ],
   "source": [
    "sns.set(rc={'figure.figsize':(11.7,4.5)})\n",
    "class_df = pd.DataFrame(pd.value_counts(df_free['class']))\n",
    "class_df['class_name'] = class_df.index\n",
    "sns.barplot(x=\"class_name\",y='class',data=class_df)\n",
    "plt.xticks(rotation=70)\n",
    "plt.show()"
   ]
  },
  {
   "cell_type": "markdown",
   "id": "c7e2c82d",
   "metadata": {},
   "source": [
    "### Check Images  Is Present in csv Or Not"
   ]
  },
  {
   "cell_type": "code",
   "execution_count": 12,
   "id": "61b0d378",
   "metadata": {},
   "outputs": [
    {
     "name": "stdout",
     "output_type": "stream",
     "text": [
      "The total image bounding box is not present 270\n"
     ]
    }
   ],
   "source": [
    "\n",
    "img_dir_path = \"flickr_logos_27_dataset/flickr_logos_27_dataset_images\"\n",
    "total = 0\n",
    "for img_ in glob.glob(f\"{img_dir_path}/*.jpg\"):\n",
    "    img_name = os.path.basename(img_)\n",
    "    \n",
    "    if img_name not in df_free.values:\n",
    "#         print(img_name)\n",
    "        total += 1\n",
    "print(f\"The total image bounding box is not present {total}\")"
   ]
  },
  {
   "cell_type": "markdown",
   "id": "8d18bfce",
   "metadata": {},
   "source": [
    "#### Remove from files which images bounding box data not present"
   ]
  },
  {
   "cell_type": "code",
   "execution_count": 13,
   "id": "e80a178b",
   "metadata": {},
   "outputs": [
    {
     "name": "stdout",
     "output_type": "stream",
     "text": [
      "sucessfully remove images in files\n"
     ]
    }
   ],
   "source": [
    "for img_ in glob.glob(f\"{img_dir_path}/*.jpg\"):\n",
    "    img_name = os.path.basename(img_)\n",
    "    \n",
    "    if img_name not in df_free.values:\n",
    "        os.remove(img_)\n",
    "print(\"sucessfully remove images in files\")"
   ]
  },
  {
   "cell_type": "markdown",
   "id": "f231a7e8",
   "metadata": {},
   "source": [
    "#### i found that one give me lot of error so here i have delect this images and delect form csv"
   ]
  },
  {
   "cell_type": "code",
   "execution_count": 14,
   "id": "446882b1",
   "metadata": {},
   "outputs": [],
   "source": [
    "os.remove(f\"{img_dir_path}/2662264721.jpg\")"
   ]
  },
  {
   "cell_type": "code",
   "execution_count": 15,
   "id": "21787087",
   "metadata": {},
   "outputs": [
    {
     "data": {
      "text/html": [
       "<div>\n",
       "<style scoped>\n",
       "    .dataframe tbody tr th:only-of-type {\n",
       "        vertical-align: middle;\n",
       "    }\n",
       "\n",
       "    .dataframe tbody tr th {\n",
       "        vertical-align: top;\n",
       "    }\n",
       "\n",
       "    .dataframe thead th {\n",
       "        text-align: right;\n",
       "    }\n",
       "</style>\n",
       "<table border=\"1\" class=\"dataframe\">\n",
       "  <thead>\n",
       "    <tr style=\"text-align: right;\">\n",
       "      <th></th>\n",
       "      <th>filename</th>\n",
       "      <th>class</th>\n",
       "      <th>xmin</th>\n",
       "      <th>ymin</th>\n",
       "      <th>xmax</th>\n",
       "      <th>ymax</th>\n",
       "    </tr>\n",
       "  </thead>\n",
       "  <tbody>\n",
       "    <tr>\n",
       "      <th>3246</th>\n",
       "      <td>2662264721.jpg</td>\n",
       "      <td>RedBull</td>\n",
       "      <td>3</td>\n",
       "      <td>197</td>\n",
       "      <td>3</td>\n",
       "      <td>197</td>\n",
       "    </tr>\n",
       "  </tbody>\n",
       "</table>\n",
       "</div>"
      ],
      "text/plain": [
       "            filename    class  xmin  ymin  xmax  ymax\n",
       "3246  2662264721.jpg  RedBull     3   197     3   197"
      ]
     },
     "execution_count": 15,
     "metadata": {},
     "output_type": "execute_result"
    }
   ],
   "source": [
    "df_free.loc[df_free[\"filename\"] == \"2662264721.jpg\"]"
   ]
  },
  {
   "cell_type": "code",
   "execution_count": 16,
   "id": "b9829a5f",
   "metadata": {},
   "outputs": [],
   "source": [
    "df_free = df_free.drop(df_free.loc[df_free[\"filename\"] == \"2662264721.jpg\"].index)"
   ]
  },
  {
   "cell_type": "markdown",
   "id": "11fcf8c6",
   "metadata": {},
   "source": [
    "### Adding width and height in dataframe"
   ]
  },
  {
   "cell_type": "code",
   "execution_count": 17,
   "id": "2bf17ebd",
   "metadata": {},
   "outputs": [
    {
     "name": "stdout",
     "output_type": "stream",
     "text": [
      "sucessfully added width and height in dataframe\n"
     ]
    }
   ],
   "source": [
    "path_img = \"flickr_logos_27_dataset/flickr_logos_27_dataset_images\"\n",
    "grouped = df_free.groupby('filename')\n",
    "\n",
    "new_df = pd.DataFrame(columns=['filename','width','height', 'class', 'xmin', 'ymin', 'xmax', 'ymax'])\n",
    "for img in glob.glob(f\"{path_img}/*.jpg\"):\n",
    "    img_name = os.path.basename(img)\n",
    "    group_df = grouped.get_group(img_name).reset_index()\n",
    "    group_df = group_df.drop(['index'],axis=1)\n",
    "    \n",
    "    img_path = os.path.join(path_img,img_name)\n",
    "    img = Image.open(img_path)\n",
    "    width ,height = img.size\n",
    "    for index,_ in group_df.iterrows():\n",
    "        group_df.loc[index,'width'] = width\n",
    "        group_df.loc[index,'height'] = height\n",
    "    new_df = pd.concat([new_df,group_df])\n",
    "print(\"sucessfully added width and height in dataframe\")"
   ]
  },
  {
   "cell_type": "markdown",
   "id": "315c2734",
   "metadata": {},
   "source": [
    "#### check weather correctly added width and height or not"
   ]
  },
  {
   "cell_type": "code",
   "execution_count": 27,
   "id": "250a1e46",
   "metadata": {},
   "outputs": [
    {
     "name": "stdout",
     "output_type": "stream",
     "text": [
      "         filename  width  height   class xmin ymin xmax ymax\n",
      "0  4486111617.jpg  500.0   375.0  Sprite  133   64  333  126\n",
      "1  4486111617.jpg  500.0   375.0  Sprite  133  156  322  242\n",
      "2  4486111617.jpg  500.0   375.0  Sprite  164  274  312  320\n",
      "3  4486111617.jpg  500.0   375.0  Sprite  205    5  254   34\n",
      "4  4486111617.jpg  500.0   375.0  Sprite  405   37  437   83\n",
      "5  4486111617.jpg  500.0   375.0  Sprite  450  287  496  337\n",
      "orginal width -- 500  and height -- 375\n"
     ]
    }
   ],
   "source": [
    "rand_img_basename = random.choice([os.path.basename(im) for im in glob.glob(f\"{path_img}/*.jpg\")])\n",
    "img_path = os.path.join(path_img,rand_img_basename)\n",
    "img = Image.open(img_path)\n",
    "width,height = img.size\n",
    "print(new_df[new_df[\"filename\"] == rand_img_basename])\n",
    "print(f\"orginal width -- {width}  and height -- {height}\")"
   ]
  },
  {
   "cell_type": "code",
   "execution_count": 21,
   "id": "8beeea07",
   "metadata": {},
   "outputs": [],
   "source": [
    "new_df.to_csv(\"clean_data.csv\",index=False)"
   ]
  },
  {
   "cell_type": "code",
   "execution_count": null,
   "id": "393c46b2",
   "metadata": {},
   "outputs": [],
   "source": []
  }
 ],
 "metadata": {
  "kernelspec": {
   "display_name": "Python 3",
   "language": "python",
   "name": "python3"
  },
  "language_info": {
   "codemirror_mode": {
    "name": "ipython",
    "version": 3
   },
   "file_extension": ".py",
   "mimetype": "text/x-python",
   "name": "python",
   "nbconvert_exporter": "python",
   "pygments_lexer": "ipython3",
   "version": "3.6.13"
  }
 },
 "nbformat": 4,
 "nbformat_minor": 5
}
