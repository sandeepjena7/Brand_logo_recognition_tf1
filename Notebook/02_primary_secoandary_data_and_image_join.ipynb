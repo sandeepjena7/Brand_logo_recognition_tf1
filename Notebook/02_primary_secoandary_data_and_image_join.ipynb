{
 "cells": [
  {
   "cell_type": "code",
   "execution_count": 7,
   "id": "d7e228ea",
   "metadata": {},
   "outputs": [],
   "source": [
    "import pandas as pd\n",
    "import os\n",
    "import glob\n",
    "import shutil"
   ]
  },
  {
   "cell_type": "markdown",
   "id": "fde146af",
   "metadata": {},
   "source": [
    "### CSV files join"
   ]
  },
  {
   "cell_type": "code",
   "execution_count": 8,
   "id": "ba1831b0",
   "metadata": {},
   "outputs": [],
   "source": [
    "primary_csv = pd.read_csv(\"owndataset.csv\")\n",
    "secondary_csv = pd.read_csv(\"clean_data.csv\")"
   ]
  },
  {
   "cell_type": "code",
   "execution_count": 9,
   "id": "5a93a896",
   "metadata": {},
   "outputs": [],
   "source": [
    "df = pd.concat([primary_csv,secondary_csv],axis=0)"
   ]
  },
  {
   "cell_type": "code",
   "execution_count": 10,
   "id": "915b302e",
   "metadata": {
    "scrolled": true
   },
   "outputs": [
    {
     "data": {
      "text/html": [
       "<div>\n",
       "<style scoped>\n",
       "    .dataframe tbody tr th:only-of-type {\n",
       "        vertical-align: middle;\n",
       "    }\n",
       "\n",
       "    .dataframe tbody tr th {\n",
       "        vertical-align: top;\n",
       "    }\n",
       "\n",
       "    .dataframe thead th {\n",
       "        text-align: right;\n",
       "    }\n",
       "</style>\n",
       "<table border=\"1\" class=\"dataframe\">\n",
       "  <thead>\n",
       "    <tr style=\"text-align: right;\">\n",
       "      <th></th>\n",
       "      <th>filename</th>\n",
       "      <th>width</th>\n",
       "      <th>height</th>\n",
       "      <th>class</th>\n",
       "      <th>xmin</th>\n",
       "      <th>ymin</th>\n",
       "      <th>xmax</th>\n",
       "      <th>ymax</th>\n",
       "    </tr>\n",
       "  </thead>\n",
       "  <tbody>\n",
       "    <tr>\n",
       "      <th>1251</th>\n",
       "      <td>82412168.jpg</td>\n",
       "      <td>247.0</td>\n",
       "      <td>65.0</td>\n",
       "      <td>Yahoo</td>\n",
       "      <td>4</td>\n",
       "      <td>2</td>\n",
       "      <td>232</td>\n",
       "      <td>45</td>\n",
       "    </tr>\n",
       "    <tr>\n",
       "      <th>1252</th>\n",
       "      <td>82413169.jpg</td>\n",
       "      <td>261.0</td>\n",
       "      <td>60.0</td>\n",
       "      <td>Yahoo</td>\n",
       "      <td>31</td>\n",
       "      <td>5</td>\n",
       "      <td>228</td>\n",
       "      <td>47</td>\n",
       "    </tr>\n",
       "    <tr>\n",
       "      <th>1253</th>\n",
       "      <td>844909343.jpg</td>\n",
       "      <td>500.0</td>\n",
       "      <td>375.0</td>\n",
       "      <td>Nbc</td>\n",
       "      <td>2</td>\n",
       "      <td>27</td>\n",
       "      <td>496</td>\n",
       "      <td>358</td>\n",
       "    </tr>\n",
       "    <tr>\n",
       "      <th>1254</th>\n",
       "      <td>87630579.jpg</td>\n",
       "      <td>375.0</td>\n",
       "      <td>500.0</td>\n",
       "      <td>Cocacola</td>\n",
       "      <td>12</td>\n",
       "      <td>267</td>\n",
       "      <td>172</td>\n",
       "      <td>352</td>\n",
       "    </tr>\n",
       "    <tr>\n",
       "      <th>1255</th>\n",
       "      <td>879397507.jpg</td>\n",
       "      <td>500.0</td>\n",
       "      <td>333.0</td>\n",
       "      <td>Ford</td>\n",
       "      <td>49</td>\n",
       "      <td>106</td>\n",
       "      <td>159</td>\n",
       "      <td>162</td>\n",
       "    </tr>\n",
       "    <tr>\n",
       "      <th>1256</th>\n",
       "      <td>882748860.jpg</td>\n",
       "      <td>500.0</td>\n",
       "      <td>298.0</td>\n",
       "      <td>Nbc</td>\n",
       "      <td>123</td>\n",
       "      <td>23</td>\n",
       "      <td>356</td>\n",
       "      <td>249</td>\n",
       "    </tr>\n",
       "    <tr>\n",
       "      <th>1257</th>\n",
       "      <td>89201664.jpg</td>\n",
       "      <td>500.0</td>\n",
       "      <td>333.0</td>\n",
       "      <td>McDonalds</td>\n",
       "      <td>10</td>\n",
       "      <td>2</td>\n",
       "      <td>492</td>\n",
       "      <td>318</td>\n",
       "    </tr>\n",
       "    <tr>\n",
       "      <th>1258</th>\n",
       "      <td>96668817.jpg</td>\n",
       "      <td>88.0</td>\n",
       "      <td>35.0</td>\n",
       "      <td>Puma</td>\n",
       "      <td>36</td>\n",
       "      <td>2</td>\n",
       "      <td>86</td>\n",
       "      <td>28</td>\n",
       "    </tr>\n",
       "    <tr>\n",
       "      <th>1259</th>\n",
       "      <td>98498585.jpg</td>\n",
       "      <td>500.0</td>\n",
       "      <td>375.0</td>\n",
       "      <td>Porsche</td>\n",
       "      <td>133</td>\n",
       "      <td>72</td>\n",
       "      <td>382</td>\n",
       "      <td>322</td>\n",
       "    </tr>\n",
       "    <tr>\n",
       "      <th>1260</th>\n",
       "      <td>99816106.jpg</td>\n",
       "      <td>500.0</td>\n",
       "      <td>333.0</td>\n",
       "      <td>Puma</td>\n",
       "      <td>164</td>\n",
       "      <td>35</td>\n",
       "      <td>390</td>\n",
       "      <td>246</td>\n",
       "    </tr>\n",
       "  </tbody>\n",
       "</table>\n",
       "</div>"
      ],
      "text/plain": [
       "           filename  width  height      class  xmin  ymin  xmax  ymax\n",
       "1251   82412168.jpg  247.0    65.0      Yahoo     4     2   232    45\n",
       "1252   82413169.jpg  261.0    60.0      Yahoo    31     5   228    47\n",
       "1253  844909343.jpg  500.0   375.0        Nbc     2    27   496   358\n",
       "1254   87630579.jpg  375.0   500.0   Cocacola    12   267   172   352\n",
       "1255  879397507.jpg  500.0   333.0       Ford    49   106   159   162\n",
       "1256  882748860.jpg  500.0   298.0        Nbc   123    23   356   249\n",
       "1257   89201664.jpg  500.0   333.0  McDonalds    10     2   492   318\n",
       "1258   96668817.jpg   88.0    35.0       Puma    36     2    86    28\n",
       "1259   98498585.jpg  500.0   375.0    Porsche   133    72   382   322\n",
       "1260   99816106.jpg  500.0   333.0       Puma   164    35   390   246"
      ]
     },
     "execution_count": 10,
     "metadata": {},
     "output_type": "execute_result"
    }
   ],
   "source": [
    "df.tail(10)"
   ]
  },
  {
   "cell_type": "code",
   "execution_count": 11,
   "id": "9e0c06ca",
   "metadata": {},
   "outputs": [],
   "source": [
    "df.to_csv(\"concatenate.csv\",index=False)"
   ]
  },
  {
   "cell_type": "markdown",
   "id": "2bdbcdc4",
   "metadata": {},
   "source": [
    "### Image file Concatenate"
   ]
  },
  {
   "cell_type": "code",
   "execution_count": 12,
   "id": "fc4e9d51",
   "metadata": {},
   "outputs": [],
   "source": [
    "primary_image_files = \"brand_log_withxml\"\n",
    "secoandary_image_files = \"flickr_logos_27_dataset/flickr_logos_27_dataset_images\"\n",
    "os.makedirs('images',exist_ok=True)"
   ]
  },
  {
   "cell_type": "code",
   "execution_count": 13,
   "id": "2ddc4a5c",
   "metadata": {},
   "outputs": [],
   "source": [
    "for img_ in glob.glob(f\"{primary_image_files}/*jpg\"):\n",
    "    shutil.copy(img_,f\"images/{os.path.basename(img_)}\")"
   ]
  },
  {
   "cell_type": "code",
   "execution_count": 14,
   "id": "8fc4c491",
   "metadata": {},
   "outputs": [],
   "source": [
    "for img_ in glob.glob(f\"{secoandary_image_files}/*jpg\"):\n",
    "    shutil.copy(img_,f\"images/{os.path.basename(img_)}\")"
   ]
  },
  {
   "cell_type": "code",
   "execution_count": null,
   "id": "bb418594",
   "metadata": {},
   "outputs": [],
   "source": [
    "os.r"
   ]
  }
 ],
 "metadata": {
  "kernelspec": {
   "display_name": "Python 3",
   "language": "python",
   "name": "python3"
  },
  "language_info": {
   "codemirror_mode": {
    "name": "ipython",
    "version": 3
   },
   "file_extension": ".py",
   "mimetype": "text/x-python",
   "name": "python",
   "nbconvert_exporter": "python",
   "pygments_lexer": "ipython3",
   "version": "3.6.13"
  }
 },
 "nbformat": 4,
 "nbformat_minor": 5
}
